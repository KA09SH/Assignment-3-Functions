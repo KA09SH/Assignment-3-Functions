{
 "cells": [
  {
   "cell_type": "code",
   "execution_count": 1,
   "id": "ec8a3853",
   "metadata": {},
   "outputs": [
    {
     "data": {
      "text/plain": [
       "[1, 3, 5, 7, 9, 11, 13, 15, 17, 19, 21, 23]"
      ]
     },
     "execution_count": 1,
     "metadata": {},
     "output_type": "execute_result"
    }
   ],
   "source": [
    "#Q1. Which keyword is used to create a function? Create a function to return a list of odd numbers in the range of 1 to 25.\n",
    "\n",
    "#A. The def keyword is used to create (or define) a function.\n",
    "#   Syntax: def function_name(): \n",
    "\n",
    "#Program\n",
    "\n",
    "def odd_numbers(n):\n",
    "  return [x for x in range(n) if x % 2 == 1]\n",
    "\n",
    "odd_numbers(25)\n"
   ]
  },
  {
   "cell_type": "code",
   "execution_count": 2,
   "id": "32df59f9",
   "metadata": {},
   "outputs": [
    {
     "data": {
      "text/plain": [
       "('My', 'name', 'is', 'Shubham')"
      ]
     },
     "execution_count": 2,
     "metadata": {},
     "output_type": "execute_result"
    }
   ],
   "source": [
    "#Q2. Why *args and **kwargs is used in some functions? Create a function each for *args and **kwargs to demonstrate their use.\n",
    "\n",
    "#A. We use *args and **kwargs as arguments of a function when we are uncertain about the number of arguments to be passed in the function.\n",
    "\n",
    "#Program to demostrate the use of *args\n",
    "\n",
    "def my_name(*args):\n",
    "    return args\n",
    "\n",
    "my_name(\"My\", \"name\", \"is\", \"Shubham\")\n"
   ]
  },
  {
   "cell_type": "code",
   "execution_count": 3,
   "id": "651e8f18",
   "metadata": {},
   "outputs": [
    {
     "data": {
      "text/plain": [
       "{'First': 'Shubham', 'Middle': 'Kuamr', 'Last': 'Singh'}"
      ]
     },
     "execution_count": 3,
     "metadata": {},
     "output_type": "execute_result"
    }
   ],
   "source": [
    "#Answer. Continued\n",
    "#Program to demostrate the use of **kwargs\n",
    "\n",
    "def name_pos(**kwargs):\n",
    "    return kwargs\n",
    "\n",
    "name_pos(First = \"Shubham\", Middle = \"Kuamr\", Last = \"Singh\")\n"
   ]
  },
  {
   "cell_type": "code",
   "execution_count": 4,
   "id": "de9bf4eb",
   "metadata": {},
   "outputs": [
    {
     "name": "stdout",
     "output_type": "stream",
     "text": [
      "First item in List: 2\n",
      "Second item in List: 4\n",
      "Third item in List: 6\n",
      "Fourth item in List: 8\n",
      "Fifth item in List: 10\n"
     ]
    }
   ],
   "source": [
    "#Q3. What is an iterator in python? Name the method used to initialise the iterator object and the method used for iteration. Use these methods to print the first five elements of the given list [2, 4, 6, 8, 10, 12, 14, 16, 18, 20].\n",
    "\n",
    "\n",
    "#A. In Python an iterator is an object that allows us to iterate over collections of data, such as lists, tuples, dictionaries, and sets.\n",
    "#   In simple term, an iterator is an object that contains a countable number of values.\n",
    "#   An iterator is an object that can be iterated upon, meaning that we can traverse through all the values.\n",
    "\n",
    "#   iter() method is used to initialize the iterator object so that the instance of this object can be used for iterating.\n",
    "#   next() method is used to iterate over the iterable objects. The next() method returns the next value in the iterable object.\n",
    "\n",
    "#Program\n",
    "\n",
    "list1 = [2, 4, 6, 8, 10, 12, 14, 16, 18, 20]\n",
    "\n",
    "l_iter = iter(list1)\n",
    " \n",
    "print(\"First item in List:\", next(l_iter))\n",
    "print(\"Second item in List:\", next(l_iter))\n",
    "print(\"Third item in List:\", next(l_iter))\n",
    "print(\"Fourth item in List:\", next(l_iter))\n",
    "print(\"Fifth item in List:\", next(l_iter))"
   ]
  },
  {
   "cell_type": "code",
   "execution_count": 5,
   "id": "8f596383",
   "metadata": {},
   "outputs": [
    {
     "name": "stdout",
     "output_type": "stream",
     "text": [
      "0\n",
      "1\n",
      "2\n",
      "3\n",
      "4\n"
     ]
    }
   ],
   "source": [
    "#Q4. What is a generator function in python? Why yield keyword is used? Give an example of a generator function.\n",
    "\n",
    "#A. A generator function is defined like a normal function, but whenever it needs to generate a value, it does so with the yield keyword rather than return. \n",
    "#.  If the body of a def contains yield, the function automatically becomes a generator function. \n",
    "\n",
    "#.  The yield keyword will convert an expression that is specified along with it to a generator object and return it to the caller. \n",
    "\n",
    "#.  #Program to generate a sequence of numbers\n",
    "\n",
    "def my_generator(n):\n",
    "    value = 0\n",
    "    while value < n :\n",
    "        yield value\n",
    "        value = value + 1\n",
    "for value in my_generator(5) :\n",
    "    print(value)"
   ]
  },
  {
   "cell_type": "code",
   "execution_count": 18,
   "id": "d66e0a4a",
   "metadata": {},
   "outputs": [
    {
     "name": "stdout",
     "output_type": "stream",
     "text": [
      "2\n",
      "3\n",
      "5\n",
      "7\n",
      "11\n",
      "13\n",
      "17\n",
      "19\n",
      "23\n",
      "29\n",
      "31\n",
      "37\n",
      "41\n",
      "43\n",
      "47\n",
      "53\n",
      "59\n",
      "61\n",
      "67\n",
      "71\n"
     ]
    }
   ],
   "source": [
    "#Q5. Create a generator function for prime numbers less than 1000. Use the next() method to print the first 20 prime numbers.\n",
    "\n",
    "def generate_primes():\n",
    "    num = 2  \n",
    "    while True:\n",
    "        if is_prime(num):\n",
    "            yield num\n",
    "        num += 1\n",
    "\n",
    "def is_prime(n):\n",
    "    if n < 2:\n",
    "        return False\n",
    "    for i in range(2, int(n ** 0.5) + 1):\n",
    "        if n % i == 0:\n",
    "            return False\n",
    "    return True\n",
    "\n",
    "prime_generator = generate_primes()\n",
    "\n",
    "for _ in range(20):                    # to generate the first 20 prime numbers\n",
    "    print(next(prime_generator))"
   ]
  },
  {
   "cell_type": "code",
   "execution_count": 9,
   "id": "281b67ad",
   "metadata": {},
   "outputs": [
    {
     "name": "stdout",
     "output_type": "stream",
     "text": [
      "Enter how many terms: 10\n",
      "\n",
      "Fibonacci series up to 10 terms:\n",
      "0\n",
      "1\n",
      "1\n",
      "2\n",
      "3\n",
      "5\n",
      "8\n",
      "13\n",
      "21\n",
      "34\n"
     ]
    }
   ],
   "source": [
    "#Q6. Write a python program to print the first 10 Fibonacci numbers using a while loop.\n",
    "\n",
    "terms = int(input(\"Enter how many terms: \"))\n",
    "\n",
    "first, second = 0, 1\n",
    "i = 0\n",
    "\n",
    "if terms <= 0:\n",
    "   print(\"Invalid input\")\n",
    "   \n",
    "elif terms == 1:\n",
    "   print(\"\\nFibonacci series up to\",terms,\"terms:\")\n",
    "   print(first)\n",
    "else:\n",
    "   print(\"\\nFibonacci series up to\",terms,\"terms:\")\n",
    "   while i < terms:\n",
    "     print(first)\n",
    "     next = first + second\n",
    "     first = second\n",
    "     second = next\n",
    "     i +=1"
   ]
  },
  {
   "cell_type": "code",
   "execution_count": 10,
   "id": "63aaef76",
   "metadata": {},
   "outputs": [
    {
     "name": "stdout",
     "output_type": "stream",
     "text": [
      "['p', 'w', 's', 'k', 'i', 'l', 'l', 's']\n"
     ]
    }
   ],
   "source": [
    "#Q7. Write a List Comprehension to iterate through the given string: ‘pwskills’.\n",
    "# Expected output: ['p', 'w', 's', 'k', 'i', 'l', 'l', 's']\n",
    "\n",
    "l1 = \"pwskills\"\n",
    "List = []\n",
    "\n",
    "for character in l1:\n",
    "    List.append(character)\n",
    "print(List)"
   ]
  },
  {
   "cell_type": "code",
   "execution_count": 14,
   "id": "505b9e7a",
   "metadata": {},
   "outputs": [
    {
     "name": "stdout",
     "output_type": "stream",
     "text": [
      "Enter number:2132\n",
      "The number isn't a palindrome!\n"
     ]
    }
   ],
   "source": [
    "#Q8. Write a python program to check whether a given number is Palindrome or not using a while loop.\n",
    "\n",
    "n=int(input(\"Enter number:\"))\n",
    "temp=n\n",
    "rev=0\n",
    "while(n>0):\n",
    "    dig=n%10\n",
    "    rev=rev*10+dig\n",
    "    n=n//10\n",
    "if(temp==rev):\n",
    "    print(\"The number is a palindrome!\")\n",
    "else:\n",
    "    print(\"The number isn't a palindrome!\")"
   ]
  },
  {
   "cell_type": "code",
   "execution_count": 30,
   "id": "5ee789cc",
   "metadata": {},
   "outputs": [
    {
     "name": "stdout",
     "output_type": "stream",
     "text": [
      "[1, 3, 5, 7, 9, 11, 13, 15, 17, 19, 21, 23, 25, 27, 29, 31, 33, 35, 37, 39, 41, 43, 45, 47, 49, 51, 53, 55, 57, 59, 61, 63, 65, 67, 69, 71, 73, 75, 77, 79, 81, 83, 85, 87, 89, 91, 93, 95, 97, 99]\n"
     ]
    }
   ],
   "source": [
    "#Q9. Write a code to print odd numbers from 1 to 100 using list comprehension.\n",
    "\n",
    "def odd_numbers(n):\n",
    "    return [x for x in range(1, n+1, 2) if x % 1 == 0]\n",
    "\n",
    "print(odd_numbers(100))"
   ]
  },
  {
   "cell_type": "code",
   "execution_count": null,
   "id": "b5111f6d",
   "metadata": {},
   "outputs": [],
   "source": []
  }
 ],
 "metadata": {
  "kernelspec": {
   "display_name": "Python 3 (ipykernel)",
   "language": "python",
   "name": "python3"
  },
  "language_info": {
   "codemirror_mode": {
    "name": "ipython",
    "version": 3
   },
   "file_extension": ".py",
   "mimetype": "text/x-python",
   "name": "python",
   "nbconvert_exporter": "python",
   "pygments_lexer": "ipython3",
   "version": "3.10.9"
  }
 },
 "nbformat": 4,
 "nbformat_minor": 5
}
